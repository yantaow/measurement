{
 "cells": [
  {
   "cell_type": "code",
   "execution_count": 68,
   "id": "6d9ad720",
   "metadata": {},
   "outputs": [],
   "source": [
    "var('v1', 'v2','v3','v4')\n",
    "A = Matrix([[1,2,3],[3,2,1],[1,1,v1]])\n",
    "A = Matrix([[1/sqrt(2),v1],[0,v3]])\n",
    "A2=A.tensor_product(A)\n",
    "A4=A2.tensor_product(A2)\n",
    "AA4=A4.substitute(v1=v2,v3=v4)\n",
    "A4_diag = A4.diagonal()\n",
    "AA4_diag = AA4.diagonal()"
   ]
  },
  {
   "cell_type": "code",
   "execution_count": 81,
   "id": "31e3a3e7",
   "metadata": {},
   "outputs": [
    {
     "data": {
      "text/plain": [
       "[1/2,\n",
       " 1/4*sqrt(2)*v3 + 1/4*sqrt(2)*v4,\n",
       " 1/4*sqrt(2)*v3 + 1/4*sqrt(2)*v4,\n",
       " 1/2*v3^2 + 1/2*v4^2,\n",
       " 1/4*sqrt(2)*v3 + 1/4*sqrt(2)*v4,\n",
       " 1/2*v3^2 + 1/2*v4^2,\n",
       " 1/2*v3^2 + 1/2*v4^2,\n",
       " 1/2*sqrt(2)*v3^3 + 1/2*sqrt(2)*v4^3,\n",
       " 1/4*sqrt(2)*v3 + 1/4*sqrt(2)*v4,\n",
       " 1/2*v3^2 + 1/2*v4^2,\n",
       " 1/2*v3^2 + 1/2*v4^2,\n",
       " 1/2*sqrt(2)*v3^3 + 1/2*sqrt(2)*v4^3,\n",
       " 1/2*v3^2 + 1/2*v4^2,\n",
       " 1/2*sqrt(2)*v3^3 + 1/2*sqrt(2)*v4^3,\n",
       " 1/2*sqrt(2)*v3^3 + 1/2*sqrt(2)*v4^3,\n",
       " v3^4 + v4^4]"
      ]
     },
     "execution_count": 81,
     "metadata": {},
     "output_type": "execute_result"
    }
   ],
   "source": [
    "eig=[k[0]+k[1] for k in zip(A4_diag,AA4_diag)]\n",
    "eig"
   ]
  },
  {
   "cell_type": "code",
   "execution_count": 82,
   "id": "f8f2f743",
   "metadata": {},
   "outputs": [
    {
     "data": {
      "text/plain": [
       "[1/2,\n",
       " 0.250618000000000*sqrt(2),\n",
       " 0.250618000000000*sqrt(2),\n",
       " 0.441469584032000,\n",
       " 0.250618000000000*sqrt(2),\n",
       " 0.441469584032000,\n",
       " 0.441469584032000,\n",
       " 0.411982758401126*sqrt(2),\n",
       " 0.250618000000000*sqrt(2),\n",
       " 0.441469584032000,\n",
       " 0.441469584032000,\n",
       " 0.411982758401126*sqrt(2),\n",
       " 0.441469584032000,\n",
       " 0.411982758401126*sqrt(2),\n",
       " 0.411982758401126*sqrt(2),\n",
       " 0.772138239429837]"
      ]
     },
     "execution_count": 82,
     "metadata": {},
     "output_type": "execute_result"
    }
   ],
   "source": [
    "[e.substitute(v3=0.06508, v4=0.937392) for e in eig]"
   ]
  },
  {
   "cell_type": "code",
   "execution_count": 84,
   "id": "a701fe04",
   "metadata": {},
   "outputs": [
    {
     "data": {
      "text/plain": [
       "'/home/yantaow'"
      ]
     },
     "execution_count": 84,
     "metadata": {},
     "output_type": "execute_result"
    }
   ],
   "source": [
    "import os\n",
    "os.getcwd()"
   ]
  },
  {
   "cell_type": "code",
   "execution_count": null,
   "id": "823d0d51",
   "metadata": {},
   "outputs": [],
   "source": []
  }
 ],
 "metadata": {
  "kernelspec": {
   "display_name": "SageMath 9.0",
   "language": "sage",
   "name": "sagemath"
  },
  "language_info": {
   "codemirror_mode": {
    "name": "ipython",
    "version": 3
   },
   "file_extension": ".py",
   "mimetype": "text/x-python",
   "name": "python",
   "nbconvert_exporter": "python",
   "pygments_lexer": "ipython3",
   "version": "3.8.10"
  }
 },
 "nbformat": 4,
 "nbformat_minor": 5
}
